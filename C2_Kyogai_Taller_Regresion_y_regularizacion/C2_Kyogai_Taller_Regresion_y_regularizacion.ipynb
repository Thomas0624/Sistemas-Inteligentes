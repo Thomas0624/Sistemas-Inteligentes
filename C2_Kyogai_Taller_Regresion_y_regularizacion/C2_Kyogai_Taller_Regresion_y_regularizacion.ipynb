{
  "cells": [
    {
      "cell_type": "markdown",
      "metadata": {
        "id": "TTBZiL-xfXrs"
      },
      "source": [
        "<p align=\"center\">\n",
        "<FONT FACE=\"times new roman\" SIZE=5>\n",
        "\n",
        "<i><b>Docente:</b> Darwin Martinez.</i>\n",
        "<br>\n",
        "<i><b>Asignatura:</b> Introducción a sistemas inteligentes</i>\n",
        "<br>\n",
        "<i><b>Estudiantes:</b> Mitchell Bermin, Andrea Terraza, Miguel Thomas</i>\n",
        "<br>\n",
        "<i><b>Grupo:</b> Kyogai</i>\n",
        "<i>9/04/24</i>\n",
        "<br>\n",
        "</FONT>\n",
        "</p>"
      ]
    },
    {
      "cell_type": "markdown",
      "metadata": {
        "id": "E3kks58xGHKz"
      },
      "source": [
        "* Primer Conjunto de datos: Recaudo Aporte Voluntario Impuesto Predial\n",
        "    * Numero de datos (Filas): 91\n",
        "    * Columnas: 6\n",
        "        * Año Presentacion: Año en el que se hizo el reporte\n",
        "        * Concepto_impuesto: Tipo de impuesto en el que se contribuyo\n",
        "        * Estrato: Estrato\n",
        "        * No CONTRIBUYENTES: numero de personas que contribuyeron\n",
        "        * Valor: Valor total contribuido\n",
        "\n",
        "\n"
      ]
    },
    {
      "cell_type": "code",
      "execution_count": 1,
      "metadata": {
        "id": "Ad-SFxqnGOED"
      },
      "outputs": [],
      "source": [
        "import pandas as pd\n",
        "from sklearn.preprocessing import StandardScaler\n",
        "from sklearn.model_selection import train_test_split\n",
        "from sklearn.linear_model import Ridge, Lasso, ElasticNet\n",
        "from sklearn.metrics import mean_squared_error\n",
        "import matplotlib.pyplot as plt\n"
      ]
    },
    {
      "cell_type": "code",
      "execution_count": 2,
      "metadata": {
        "colab": {
          "base_uri": "https://localhost:8080/",
          "height": 206
        },
        "id": "hmTGLo2_p_5-",
        "outputId": "80cbdeed-848b-4638-8268-ee9078052370"
      },
      "outputs": [
        {
          "ename": "FileNotFoundError",
          "evalue": "[Errno 2] No such file or directory: 'C2_Kyogai_Taller_Regresion_y_regularizacion/Aporte voluntario de impuesto predial.csv'",
          "output_type": "error",
          "traceback": [
            "\u001b[0;31m---------------------------------------------------------------------------\u001b[0m",
            "\u001b[0;31mFileNotFoundError\u001b[0m                         Traceback (most recent call last)",
            "\u001b[0;32m/tmp/ipykernel_14144/3270348062.py\u001b[0m in \u001b[0;36m<module>\u001b[0;34m\u001b[0m\n\u001b[1;32m      1\u001b[0m \u001b[0;31m# Cargar el conjunto de datos\u001b[0m\u001b[0;34m\u001b[0m\u001b[0;34m\u001b[0m\u001b[0m\n\u001b[1;32m      2\u001b[0m \u001b[0murl\u001b[0m \u001b[0;34m=\u001b[0m \u001b[0;34m'C2_Kyogai_Taller_Regresion_y_regularizacion/Aporte voluntario de impuesto predial.csv'\u001b[0m\u001b[0;34m\u001b[0m\u001b[0;34m\u001b[0m\u001b[0m\n\u001b[0;32m----> 3\u001b[0;31m \u001b[0maporte_dataset\u001b[0m \u001b[0;34m=\u001b[0m \u001b[0mpd\u001b[0m\u001b[0;34m.\u001b[0m\u001b[0mread_csv\u001b[0m\u001b[0;34m(\u001b[0m\u001b[0murl\u001b[0m\u001b[0;34m,\u001b[0m \u001b[0mencoding\u001b[0m\u001b[0;34m=\u001b[0m\u001b[0;34m\"latin1\"\u001b[0m\u001b[0;34m,\u001b[0m \u001b[0mdelimiter\u001b[0m\u001b[0;34m=\u001b[0m\u001b[0;34m\";\"\u001b[0m\u001b[0;34m)\u001b[0m\u001b[0;34m\u001b[0m\u001b[0;34m\u001b[0m\u001b[0m\n\u001b[0m\u001b[1;32m      4\u001b[0m \u001b[0;34m\u001b[0m\u001b[0m\n\u001b[1;32m      5\u001b[0m \u001b[0maporte_dataset\u001b[0m\u001b[0;34m.\u001b[0m\u001b[0mhead\u001b[0m\u001b[0;34m(\u001b[0m\u001b[0;34m)\u001b[0m\u001b[0;34m\u001b[0m\u001b[0;34m\u001b[0m\u001b[0m\n",
            "\u001b[0;32m/usr/lib/python3/dist-packages/pandas/util/_decorators.py\u001b[0m in \u001b[0;36mwrapper\u001b[0;34m(*args, **kwargs)\u001b[0m\n\u001b[1;32m    309\u001b[0m                     \u001b[0mstacklevel\u001b[0m\u001b[0;34m=\u001b[0m\u001b[0mstacklevel\u001b[0m\u001b[0;34m,\u001b[0m\u001b[0;34m\u001b[0m\u001b[0;34m\u001b[0m\u001b[0m\n\u001b[1;32m    310\u001b[0m                 )\n\u001b[0;32m--> 311\u001b[0;31m             \u001b[0;32mreturn\u001b[0m \u001b[0mfunc\u001b[0m\u001b[0;34m(\u001b[0m\u001b[0;34m*\u001b[0m\u001b[0margs\u001b[0m\u001b[0;34m,\u001b[0m \u001b[0;34m**\u001b[0m\u001b[0mkwargs\u001b[0m\u001b[0;34m)\u001b[0m\u001b[0;34m\u001b[0m\u001b[0;34m\u001b[0m\u001b[0m\n\u001b[0m\u001b[1;32m    312\u001b[0m \u001b[0;34m\u001b[0m\u001b[0m\n\u001b[1;32m    313\u001b[0m         \u001b[0;32mreturn\u001b[0m \u001b[0mwrapper\u001b[0m\u001b[0;34m\u001b[0m\u001b[0;34m\u001b[0m\u001b[0m\n",
            "\u001b[0;32m/usr/lib/python3/dist-packages/pandas/io/parsers/readers.py\u001b[0m in \u001b[0;36mread_csv\u001b[0;34m(filepath_or_buffer, sep, delimiter, header, names, index_col, usecols, squeeze, prefix, mangle_dupe_cols, dtype, engine, converters, true_values, false_values, skipinitialspace, skiprows, skipfooter, nrows, na_values, keep_default_na, na_filter, verbose, skip_blank_lines, parse_dates, infer_datetime_format, keep_date_col, date_parser, dayfirst, cache_dates, iterator, chunksize, compression, thousands, decimal, lineterminator, quotechar, quoting, doublequote, escapechar, comment, encoding, encoding_errors, dialect, error_bad_lines, warn_bad_lines, on_bad_lines, delim_whitespace, low_memory, memory_map, float_precision, storage_options)\u001b[0m\n\u001b[1;32m    584\u001b[0m     \u001b[0mkwds\u001b[0m\u001b[0;34m.\u001b[0m\u001b[0mupdate\u001b[0m\u001b[0;34m(\u001b[0m\u001b[0mkwds_defaults\u001b[0m\u001b[0;34m)\u001b[0m\u001b[0;34m\u001b[0m\u001b[0;34m\u001b[0m\u001b[0m\n\u001b[1;32m    585\u001b[0m \u001b[0;34m\u001b[0m\u001b[0m\n\u001b[0;32m--> 586\u001b[0;31m     \u001b[0;32mreturn\u001b[0m \u001b[0m_read\u001b[0m\u001b[0;34m(\u001b[0m\u001b[0mfilepath_or_buffer\u001b[0m\u001b[0;34m,\u001b[0m \u001b[0mkwds\u001b[0m\u001b[0;34m)\u001b[0m\u001b[0;34m\u001b[0m\u001b[0;34m\u001b[0m\u001b[0m\n\u001b[0m\u001b[1;32m    587\u001b[0m \u001b[0;34m\u001b[0m\u001b[0m\n\u001b[1;32m    588\u001b[0m \u001b[0;34m\u001b[0m\u001b[0m\n",
            "\u001b[0;32m/usr/lib/python3/dist-packages/pandas/io/parsers/readers.py\u001b[0m in \u001b[0;36m_read\u001b[0;34m(filepath_or_buffer, kwds)\u001b[0m\n\u001b[1;32m    480\u001b[0m \u001b[0;34m\u001b[0m\u001b[0m\n\u001b[1;32m    481\u001b[0m     \u001b[0;31m# Create the parser.\u001b[0m\u001b[0;34m\u001b[0m\u001b[0;34m\u001b[0m\u001b[0m\n\u001b[0;32m--> 482\u001b[0;31m     \u001b[0mparser\u001b[0m \u001b[0;34m=\u001b[0m \u001b[0mTextFileReader\u001b[0m\u001b[0;34m(\u001b[0m\u001b[0mfilepath_or_buffer\u001b[0m\u001b[0;34m,\u001b[0m \u001b[0;34m**\u001b[0m\u001b[0mkwds\u001b[0m\u001b[0;34m)\u001b[0m\u001b[0;34m\u001b[0m\u001b[0;34m\u001b[0m\u001b[0m\n\u001b[0m\u001b[1;32m    483\u001b[0m \u001b[0;34m\u001b[0m\u001b[0m\n\u001b[1;32m    484\u001b[0m     \u001b[0;32mif\u001b[0m \u001b[0mchunksize\u001b[0m \u001b[0;32mor\u001b[0m \u001b[0miterator\u001b[0m\u001b[0;34m:\u001b[0m\u001b[0;34m\u001b[0m\u001b[0;34m\u001b[0m\u001b[0m\n",
            "\u001b[0;32m/usr/lib/python3/dist-packages/pandas/io/parsers/readers.py\u001b[0m in \u001b[0;36m__init__\u001b[0;34m(self, f, engine, **kwds)\u001b[0m\n\u001b[1;32m    809\u001b[0m             \u001b[0mself\u001b[0m\u001b[0;34m.\u001b[0m\u001b[0moptions\u001b[0m\u001b[0;34m[\u001b[0m\u001b[0;34m\"has_index_names\"\u001b[0m\u001b[0;34m]\u001b[0m \u001b[0;34m=\u001b[0m \u001b[0mkwds\u001b[0m\u001b[0;34m[\u001b[0m\u001b[0;34m\"has_index_names\"\u001b[0m\u001b[0;34m]\u001b[0m\u001b[0;34m\u001b[0m\u001b[0;34m\u001b[0m\u001b[0m\n\u001b[1;32m    810\u001b[0m \u001b[0;34m\u001b[0m\u001b[0m\n\u001b[0;32m--> 811\u001b[0;31m         \u001b[0mself\u001b[0m\u001b[0;34m.\u001b[0m\u001b[0m_engine\u001b[0m \u001b[0;34m=\u001b[0m \u001b[0mself\u001b[0m\u001b[0;34m.\u001b[0m\u001b[0m_make_engine\u001b[0m\u001b[0;34m(\u001b[0m\u001b[0mself\u001b[0m\u001b[0;34m.\u001b[0m\u001b[0mengine\u001b[0m\u001b[0;34m)\u001b[0m\u001b[0;34m\u001b[0m\u001b[0;34m\u001b[0m\u001b[0m\n\u001b[0m\u001b[1;32m    812\u001b[0m \u001b[0;34m\u001b[0m\u001b[0m\n\u001b[1;32m    813\u001b[0m     \u001b[0;32mdef\u001b[0m \u001b[0mclose\u001b[0m\u001b[0;34m(\u001b[0m\u001b[0mself\u001b[0m\u001b[0;34m)\u001b[0m\u001b[0;34m:\u001b[0m\u001b[0;34m\u001b[0m\u001b[0;34m\u001b[0m\u001b[0m\n",
            "\u001b[0;32m/usr/lib/python3/dist-packages/pandas/io/parsers/readers.py\u001b[0m in \u001b[0;36m_make_engine\u001b[0;34m(self, engine)\u001b[0m\n\u001b[1;32m   1038\u001b[0m             )\n\u001b[1;32m   1039\u001b[0m         \u001b[0;31m# error: Too many arguments for \"ParserBase\"\u001b[0m\u001b[0;34m\u001b[0m\u001b[0;34m\u001b[0m\u001b[0m\n\u001b[0;32m-> 1040\u001b[0;31m         \u001b[0;32mreturn\u001b[0m \u001b[0mmapping\u001b[0m\u001b[0;34m[\u001b[0m\u001b[0mengine\u001b[0m\u001b[0;34m]\u001b[0m\u001b[0;34m(\u001b[0m\u001b[0mself\u001b[0m\u001b[0;34m.\u001b[0m\u001b[0mf\u001b[0m\u001b[0;34m,\u001b[0m \u001b[0;34m**\u001b[0m\u001b[0mself\u001b[0m\u001b[0;34m.\u001b[0m\u001b[0moptions\u001b[0m\u001b[0;34m)\u001b[0m  \u001b[0;31m# type: ignore[call-arg]\u001b[0m\u001b[0;34m\u001b[0m\u001b[0;34m\u001b[0m\u001b[0m\n\u001b[0m\u001b[1;32m   1041\u001b[0m \u001b[0;34m\u001b[0m\u001b[0m\n\u001b[1;32m   1042\u001b[0m     \u001b[0;32mdef\u001b[0m \u001b[0m_failover_to_python\u001b[0m\u001b[0;34m(\u001b[0m\u001b[0mself\u001b[0m\u001b[0;34m)\u001b[0m\u001b[0;34m:\u001b[0m\u001b[0;34m\u001b[0m\u001b[0;34m\u001b[0m\u001b[0m\n",
            "\u001b[0;32m/usr/lib/python3/dist-packages/pandas/io/parsers/c_parser_wrapper.py\u001b[0m in \u001b[0;36m__init__\u001b[0;34m(self, src, **kwds)\u001b[0m\n\u001b[1;32m     49\u001b[0m \u001b[0;34m\u001b[0m\u001b[0m\n\u001b[1;32m     50\u001b[0m         \u001b[0;31m# open handles\u001b[0m\u001b[0;34m\u001b[0m\u001b[0;34m\u001b[0m\u001b[0m\n\u001b[0;32m---> 51\u001b[0;31m         \u001b[0mself\u001b[0m\u001b[0;34m.\u001b[0m\u001b[0m_open_handles\u001b[0m\u001b[0;34m(\u001b[0m\u001b[0msrc\u001b[0m\u001b[0;34m,\u001b[0m \u001b[0mkwds\u001b[0m\u001b[0;34m)\u001b[0m\u001b[0;34m\u001b[0m\u001b[0;34m\u001b[0m\u001b[0m\n\u001b[0m\u001b[1;32m     52\u001b[0m         \u001b[0;32massert\u001b[0m \u001b[0mself\u001b[0m\u001b[0;34m.\u001b[0m\u001b[0mhandles\u001b[0m \u001b[0;32mis\u001b[0m \u001b[0;32mnot\u001b[0m \u001b[0;32mNone\u001b[0m\u001b[0;34m\u001b[0m\u001b[0;34m\u001b[0m\u001b[0m\n\u001b[1;32m     53\u001b[0m \u001b[0;34m\u001b[0m\u001b[0m\n",
            "\u001b[0;32m/usr/lib/python3/dist-packages/pandas/io/parsers/base_parser.py\u001b[0m in \u001b[0;36m_open_handles\u001b[0;34m(self, src, kwds)\u001b[0m\n\u001b[1;32m    220\u001b[0m         \u001b[0mLet\u001b[0m \u001b[0mthe\u001b[0m \u001b[0mreaders\u001b[0m \u001b[0mopen\u001b[0m \u001b[0mIOHandles\u001b[0m \u001b[0mafter\u001b[0m \u001b[0mthey\u001b[0m \u001b[0mare\u001b[0m \u001b[0mdone\u001b[0m \u001b[0;32mwith\u001b[0m \u001b[0mtheir\u001b[0m \u001b[0mpotential\u001b[0m \u001b[0mraises\u001b[0m\u001b[0;34m.\u001b[0m\u001b[0;34m\u001b[0m\u001b[0;34m\u001b[0m\u001b[0m\n\u001b[1;32m    221\u001b[0m         \"\"\"\n\u001b[0;32m--> 222\u001b[0;31m         self.handles = get_handle(\n\u001b[0m\u001b[1;32m    223\u001b[0m             \u001b[0msrc\u001b[0m\u001b[0;34m,\u001b[0m\u001b[0;34m\u001b[0m\u001b[0;34m\u001b[0m\u001b[0m\n\u001b[1;32m    224\u001b[0m             \u001b[0;34m\"r\"\u001b[0m\u001b[0;34m,\u001b[0m\u001b[0;34m\u001b[0m\u001b[0;34m\u001b[0m\u001b[0m\n",
            "\u001b[0;32m/usr/lib/python3/dist-packages/pandas/io/common.py\u001b[0m in \u001b[0;36mget_handle\u001b[0;34m(path_or_buf, mode, encoding, compression, memory_map, is_text, errors, storage_options)\u001b[0m\n\u001b[1;32m    700\u001b[0m         \u001b[0;32mif\u001b[0m \u001b[0mioargs\u001b[0m\u001b[0;34m.\u001b[0m\u001b[0mencoding\u001b[0m \u001b[0;32mand\u001b[0m \u001b[0;34m\"b\"\u001b[0m \u001b[0;32mnot\u001b[0m \u001b[0;32min\u001b[0m \u001b[0mioargs\u001b[0m\u001b[0;34m.\u001b[0m\u001b[0mmode\u001b[0m\u001b[0;34m:\u001b[0m\u001b[0;34m\u001b[0m\u001b[0;34m\u001b[0m\u001b[0m\n\u001b[1;32m    701\u001b[0m             \u001b[0;31m# Encoding\u001b[0m\u001b[0;34m\u001b[0m\u001b[0;34m\u001b[0m\u001b[0m\n\u001b[0;32m--> 702\u001b[0;31m             handle = open(\n\u001b[0m\u001b[1;32m    703\u001b[0m                 \u001b[0mhandle\u001b[0m\u001b[0;34m,\u001b[0m\u001b[0;34m\u001b[0m\u001b[0;34m\u001b[0m\u001b[0m\n\u001b[1;32m    704\u001b[0m                 \u001b[0mioargs\u001b[0m\u001b[0;34m.\u001b[0m\u001b[0mmode\u001b[0m\u001b[0;34m,\u001b[0m\u001b[0;34m\u001b[0m\u001b[0;34m\u001b[0m\u001b[0m\n",
            "\u001b[0;31mFileNotFoundError\u001b[0m: [Errno 2] No such file or directory: 'C2_Kyogai_Taller_Regresion_y_regularizacion/Aporte voluntario de impuesto predial.csv'"
          ]
        }
      ],
      "source": [
        "# Cargar el conjunto de datos\n",
        "url = 'C2_Kyogai_Taller_Regresion_y_regularizacion/Aporte voluntario de impuesto predial.csv'\n",
        "aporte_dataset = pd.read_csv(url, encoding=\"latin1\", delimiter=\";\")\n",
        "\n",
        "aporte_dataset.head()"
      ]
    },
    {
      "cell_type": "code",
      "execution_count": null,
      "metadata": {
        "colab": {
          "base_uri": "https://localhost:8080/",
          "height": 206
        },
        "id": "zSeYtoF6MqCF",
        "outputId": "b4e52455-e077-43fc-b823-518291462922"
      },
      "outputs": [
        {
          "data": {
            "text/html": [
              "<div>\n",
              "<style scoped>\n",
              "    .dataframe tbody tr th:only-of-type {\n",
              "        vertical-align: middle;\n",
              "    }\n",
              "\n",
              "    .dataframe tbody tr th {\n",
              "        vertical-align: top;\n",
              "    }\n",
              "\n",
              "    .dataframe thead th {\n",
              "        text-align: right;\n",
              "    }\n",
              "</style>\n",
              "<table border=\"1\" class=\"dataframe\">\n",
              "  <thead>\n",
              "    <tr style=\"text-align: right;\">\n",
              "      <th></th>\n",
              "      <th>ID</th>\n",
              "      <th>A¥O PRESENTACION</th>\n",
              "      <th>CONCEPTO_IMPUESTO</th>\n",
              "      <th>ESTRATO</th>\n",
              "      <th>No CONTRIBUYENTES</th>\n",
              "      <th>VALOR APORTE VOLUNTARIO</th>\n",
              "    </tr>\n",
              "  </thead>\n",
              "  <tbody>\n",
              "    <tr>\n",
              "      <th>0</th>\n",
              "      <td>1</td>\n",
              "      <td>2006</td>\n",
              "      <td>PREDIAL</td>\n",
              "      <td>0</td>\n",
              "      <td>0.036751</td>\n",
              "      <td>1.290349</td>\n",
              "    </tr>\n",
              "    <tr>\n",
              "      <th>1</th>\n",
              "      <td>2</td>\n",
              "      <td>2006</td>\n",
              "      <td>PREDIAL</td>\n",
              "      <td>1</td>\n",
              "      <td>-0.280465</td>\n",
              "      <td>-1.242269</td>\n",
              "    </tr>\n",
              "    <tr>\n",
              "      <th>2</th>\n",
              "      <td>3</td>\n",
              "      <td>2006</td>\n",
              "      <td>PREDIAL</td>\n",
              "      <td>2</td>\n",
              "      <td>3.341330</td>\n",
              "      <td>-0.383260</td>\n",
              "    </tr>\n",
              "    <tr>\n",
              "      <th>3</th>\n",
              "      <td>4</td>\n",
              "      <td>2006</td>\n",
              "      <td>PREDIAL</td>\n",
              "      <td>3</td>\n",
              "      <td>3.592935</td>\n",
              "      <td>1.944601</td>\n",
              "    </tr>\n",
              "    <tr>\n",
              "      <th>4</th>\n",
              "      <td>5</td>\n",
              "      <td>2006</td>\n",
              "      <td>PREDIAL</td>\n",
              "      <td>4</td>\n",
              "      <td>1.367611</td>\n",
              "      <td>1.679172</td>\n",
              "    </tr>\n",
              "  </tbody>\n",
              "</table>\n",
              "</div>"
            ],
            "text/plain": [
              "   ID  A¥O PRESENTACION CONCEPTO_IMPUESTO  ESTRATO  No CONTRIBUYENTES  \\\n",
              "0   1              2006           PREDIAL        0           0.036751   \n",
              "1   2              2006           PREDIAL        1          -0.280465   \n",
              "2   3              2006           PREDIAL        2           3.341330   \n",
              "3   4              2006           PREDIAL        3           3.592935   \n",
              "4   5              2006           PREDIAL        4           1.367611   \n",
              "\n",
              "   VALOR APORTE VOLUNTARIO  \n",
              "0                 1.290349  \n",
              "1                -1.242269  \n",
              "2                -0.383260  \n",
              "3                 1.944601  \n",
              "4                 1.679172  "
            ]
          },
          "execution_count": 39,
          "metadata": {},
          "output_type": "execute_result"
        }
      ],
      "source": [
        "features_to_normalize = ['No CONTRIBUYENTES', 'VALOR APORTE VOLUNTARIO']\n",
        "\n",
        "# Crear el objeto StandardScaler y ajustarlo a las características seleccionadas\n",
        "scaler = StandardScaler()\n",
        "aporte_dataset[features_to_normalize] = scaler.fit_transform(aporte_dataset[features_to_normalize])\n",
        "\n",
        "# Mostrar los primeros registros del conjunto de datos escalado\n",
        "aporte_dataset.head()"
      ]
    },
    {
      "cell_type": "code",
      "execution_count": null,
      "metadata": {
        "id": "zucpnUEqoTGy"
      },
      "outputs": [],
      "source": [
        "X_train, X_test, y_train, y_test = train_test_split(aporte_dataset.iloc[:, 0:5], aporte_dataset.iloc[:, -1], test_size=0.2, random_state=42)"
      ]
    },
    {
      "cell_type": "code",
      "execution_count": null,
      "metadata": {
        "id": "SDf1oRd54Hq8"
      },
      "outputs": [],
      "source": [
        "def modelo_regression(var_train,y_train,var_test,y_test, alpha,modelo):\n",
        "\n",
        "    if modelo == 'ridge':\n",
        "        reg = Ridge(alpha=alpha)\n",
        "    elif modelo == 'lasso':\n",
        "        reg = Lasso(alpha=alpha)\n",
        "    elif modelo == 'elastic_net':\n",
        "        reg = ElasticNet(alpha=alpha,l1_ratio=0.5)\n",
        "    else:\n",
        "        raise ValueError(\"Debe ser 'ridge', 'lasso' o 'elastic_net'.\")\n",
        "\n",
        "    reg.fit(var_train, y_train)\n",
        "    y_pred = reg.predict(var_test)\n",
        "\n",
        "    mse = mean_squared_error(y_test, y_pred)\n",
        "    return mse"
      ]
    },
    {
      "cell_type": "code",
      "execution_count": null,
      "metadata": {
        "id": "lu3_qPUG1lLF"
      },
      "outputs": [],
      "source": [
        "#variables independiente/s\n",
        "predictors=X_train[['ESTRATO','No CONTRIBUYENTES']]\n",
        "predictors_test= X_test[['ESTRATO','No CONTRIBUYENTES']]\n",
        "\n",
        "#diferentes valores de alpha para los 3 modelos\n",
        "alphas= [0.001,0.01,0.1,0.3,0.5, 1, 10, 20,30,40,100,1000,10000,100000,10000000]\n",
        "\n",
        "#arreglos para los mse de cada modelo\n",
        "result_ridge = []\n",
        "result_lasso = []\n",
        "result_elastic = []\n",
        "\n"
      ]
    },
    {
      "cell_type": "code",
      "execution_count": null,
      "metadata": {
        "id": "rIUp4PX8FOeb"
      },
      "outputs": [],
      "source": [
        "for i in range(len(alphas)):\n",
        "    #cargar los mse por cada lambda en los arreglos, dependiendo del modelo\n",
        "    result_ridge.append((f'alpha_{alphas[i]} ',\n",
        "                         modelo_regression(predictors, y_train, predictors_test,y_test,alphas[i],'ridge')))\n",
        "    result_lasso.append((f'alpha_{alphas[i]} ',\n",
        "                         modelo_regression(predictors, y_train, predictors_test,y_test,alphas[i],'lasso')))\n",
        "    result_elastic.append((f'alpha_{alphas[i]} ',\n",
        "                         modelo_regression(predictors, y_train, predictors_test,y_test,alphas[i],'elastic_net')))\n"
      ]
    },
    {
      "cell_type": "code",
      "execution_count": null,
      "metadata": {
        "colab": {
          "base_uri": "https://localhost:8080/"
        },
        "id": "WwLXs9ID12c7",
        "outputId": "a2d04e97-df69-426d-d6a7-5752b2e0f7c5"
      },
      "outputs": [
        {
          "data": {
            "text/plain": [
              "[('alpha_0.001 ', 0.8218133077978587),\n",
              " ('alpha_0.01 ', 0.8218185420107349),\n",
              " ('alpha_0.1 ', 0.8218708311753001),\n",
              " ('alpha_0.3 ', 0.8219866847300586),\n",
              " ('alpha_0.5 ', 0.8221020634266695),\n",
              " ('alpha_1 ', 0.8223884364990912),\n",
              " ('alpha_10 ', 0.8270530745191647),\n",
              " ('alpha_20 ', 0.8312510075817939),\n",
              " ('alpha_30 ', 0.8345945193282676),\n",
              " ('alpha_40 ', 0.8372572716029637),\n",
              " ('alpha_100 ', 0.8451208763890807),\n",
              " ('alpha_1000 ', 0.8434707041653815),\n",
              " ('alpha_10000 ', 0.840913150111967),\n",
              " ('alpha_100000 ', 0.8406669425089909),\n",
              " ('alpha_10000000 ', 0.8406405866180812)]"
            ]
          },
          "execution_count": 44,
          "metadata": {},
          "output_type": "execute_result"
        }
      ],
      "source": [
        "result_ridge"
      ]
    },
    {
      "cell_type": "code",
      "execution_count": null,
      "metadata": {
        "colab": {
          "base_uri": "https://localhost:8080/"
        },
        "id": "XrY4MkvQE4mn",
        "outputId": "f10f0072-366a-4024-abea-5a3ded439400"
      },
      "outputs": [
        {
          "data": {
            "text/plain": [
              "[('alpha_0.001 ', 0.8219578963126096),\n",
              " ('alpha_0.01 ', 0.8234257161855525),\n",
              " ('alpha_0.1 ', 0.8538712189282363),\n",
              " ('alpha_0.3 ', 0.8565315258096318),\n",
              " ('alpha_0.5 ', 0.840640321232378),\n",
              " ('alpha_1 ', 0.840640321232378),\n",
              " ('alpha_10 ', 0.840640321232378),\n",
              " ('alpha_20 ', 0.840640321232378),\n",
              " ('alpha_30 ', 0.840640321232378),\n",
              " ('alpha_40 ', 0.840640321232378),\n",
              " ('alpha_100 ', 0.840640321232378),\n",
              " ('alpha_1000 ', 0.840640321232378),\n",
              " ('alpha_10000 ', 0.840640321232378),\n",
              " ('alpha_100000 ', 0.840640321232378),\n",
              " ('alpha_10000000 ', 0.840640321232378)]"
            ]
          },
          "execution_count": 45,
          "metadata": {},
          "output_type": "execute_result"
        }
      ],
      "source": [
        "result_lasso"
      ]
    },
    {
      "cell_type": "code",
      "execution_count": null,
      "metadata": {
        "colab": {
          "base_uri": "https://localhost:8080/"
        },
        "id": "_luCaYv0E6s_",
        "outputId": "f5cc18fa-d014-4b96-8d73-cfde5ecfc45b"
      },
      "outputs": [
        {
          "data": {
            "text/plain": [
              "[('alpha_0.001 ', 0.8219057234535851),\n",
              " ('alpha_0.01 ', 0.8227865808103851),\n",
              " ('alpha_0.1 ', 0.8353767852519104),\n",
              " ('alpha_0.3 ', 0.882235186996137),\n",
              " ('alpha_0.5 ', 0.8640180446777478),\n",
              " ('alpha_1 ', 0.840640321232378),\n",
              " ('alpha_10 ', 0.840640321232378),\n",
              " ('alpha_20 ', 0.840640321232378),\n",
              " ('alpha_30 ', 0.840640321232378),\n",
              " ('alpha_40 ', 0.840640321232378),\n",
              " ('alpha_100 ', 0.840640321232378),\n",
              " ('alpha_1000 ', 0.840640321232378),\n",
              " ('alpha_10000 ', 0.840640321232378),\n",
              " ('alpha_100000 ', 0.840640321232378),\n",
              " ('alpha_10000000 ', 0.840640321232378)]"
            ]
          },
          "execution_count": 46,
          "metadata": {},
          "output_type": "execute_result"
        }
      ],
      "source": [
        "result_elastic"
      ]
    },
    {
      "cell_type": "code",
      "execution_count": null,
      "metadata": {
        "id": "ttboUkL0OL46"
      },
      "outputs": [],
      "source": [
        "alphas_ridge, mses_ridge = zip(*result_ridge)\n",
        "alphas_lasso, mses_lasso = zip(*result_lasso)\n",
        "alphas_elastic, mses_elastic = zip(*result_elastic)"
      ]
    },
    {
      "cell_type": "code",
      "execution_count": null,
      "metadata": {
        "colab": {
          "base_uri": "https://localhost:8080/",
          "height": 569
        },
        "id": "2zZxdg34NsrH",
        "outputId": "d115943f-709c-4171-c26a-cc1a8145d6b7"
      },
      "outputs": [
        {
          "data": {
            "image/png": "[encoded data removed]",
            "text/plain": [
              "<Figure size 720x432 with 1 Axes>"
            ]
          },
          "metadata": {
            "needs_background": "light"
          },
          "output_type": "display_data"
        }
      ],
      "source": [
        "# Graficar\n",
        "plt.figure(figsize=(10, 6))\n",
        "plt.plot(alphas, mses_ridge, marker='o', label='Ridge')\n",
        "plt.plot(alphas, mses_lasso, marker='o',  label='Lasso')\n",
        "plt.plot(alphas, mses_elastic, marker='o',  label='Elastic Net')\n",
        "plt.xlabel('Alpha (lambda)')\n",
        "plt.ylabel('Mean Squared Error (MSE)')\n",
        "plt.title('Lambda vs MSE para Ridge, Lasso, and Elastic Net')\n",
        "plt.xscale('log')\n",
        "plt.legend()\n",
        "plt.grid(True)\n",
        "plt.show()"
      ]
    },
    {
      "cell_type": "markdown",
      "metadata": {},
      "source": [
        "__Conclusion:__\n",
        "- En las regresiones de Lasso y Elastic Net, se observa un notable incremento en el MSE hasta alcanzar un valor de alpha de 0.5. Este fenómeno se debe a la tendencia de ambos métodos a reducir los coeficientes de ciertas variables directamente a cero, lo que resulta en la eliminación de estas del modelo. Esta eliminación de variables conlleva a que, en cierto punto, el modelo pierda características importantes, lo que puede llevar a un subajuste. No obstante, se aprecia que existe un umbral alrededor de alpha = 1, donde el MSE se estabiliza. Este efecto se debe a que, para estos valores de alpha, el modelo ya ha eliminado las variables que podían ser reducidas a cero, resultando en un modelo considerablemente más simplificado.\n",
        "\n",
        "- Por otro lado, la regresión Ridge muestra una tendencia diferente. A medida que alpha aumenta, también lo hace el MSE, lo que indica una simplificación progresiva del modelo. Esto significa que el modelo está ajustándose menos a los datos de entrenamiento, lo cual podría ser beneficioso para mejorar las predicciones en nuevos conjuntos de datos, al evitar el sobreajuste. Sin embargo, es importante señalar que, cuando el valor de alpha es excesivamente alto, la regresión Ridge puede caer en el subajuste. Esto se debe a que una penalización exagerada puede conducir a que todos los coeficientes se aproximen demasiado a cero, perdiendo así la capacidad del modelo de capturar adecuadamente las relaciones subyacentes en los datos."
      ]
    },
    {
      "cell_type": "markdown",
      "metadata": {},
      "source": []
    }
  ],
  "metadata": {
    "colab": {
      "provenance": []
    },
    "kernelspec": {
      "display_name": "Python 3",
      "name": "python3"
    },
    "language_info": {
      "codemirror_mode": {
        "name": "ipython",
        "version": 3
      },
      "file_extension": ".py",
      "mimetype": "text/x-python",
      "name": "python",
      "nbconvert_exporter": "python",
      "pygments_lexer": "ipython3",
      "version": "3.10.12"
    }
  },
  "nbformat": 4,
  "nbformat_minor": 0
}
